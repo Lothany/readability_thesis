{
 "cells": [
  {
   "cell_type": "code",
   "execution_count": 6,
   "metadata": {},
   "outputs": [
    {
     "name": "stdout",
     "output_type": "stream",
     "text": [
      "Converted 29.txt into UTF-8 as txt_utf/g6/29.txt\n",
      "Converted 28.txt into UTF-8 as txt_utf/g6/28.txt\n",
      "Converted 10.txt into UTF-8 as txt_utf/g6/10.txt\n",
      "Converted 76.txt into UTF-8 as txt_utf/g6/76.txt\n",
      "Converted 77.txt into UTF-8 as txt_utf/g6/77.txt\n",
      "Converted 75.txt into UTF-8 as txt_utf/g6/75.txt\n",
      "Converted 74.txt into UTF-8 as txt_utf/g6/74.txt\n",
      "Converted 70.txt into UTF-8 as txt_utf/g6/70.txt\n",
      "Converted 71.txt into UTF-8 as txt_utf/g6/71.txt\n",
      "Converted 73.txt into UTF-8 as txt_utf/g6/73.txt\n",
      "Converted 72.txt into UTF-8 as txt_utf/g6/72.txt\n",
      "Converted 79.txt into UTF-8 as txt_utf/g6/79.txt\n",
      "Converted 26.txt into UTF-8 as txt_utf/g6/26.txt\n",
      "Converted 32.txt into UTF-8 as txt_utf/g6/32.txt\n",
      "Converted 33.txt into UTF-8 as txt_utf/g6/33.txt\n",
      "Converted 27.txt into UTF-8 as txt_utf/g6/27.txt\n",
      "Converted 31.txt into UTF-8 as txt_utf/g6/31.txt\n",
      "Converted 30.txt into UTF-8 as txt_utf/g6/30.txt\n"
     ]
    }
   ],
   "source": [
    "import os\n",
    "\n",
    "directory = \"txt_sorted/g6\"\n",
    "output_directory = \"txt_utf/g6\"\n",
    "\n",
    "for file in os.listdir(directory):\n",
    "    input_file = os.path.join(directory, file)\n",
    "    \n",
    "    # Perform only for files and not directories\n",
    "    if os.path.isfile(input_file):\n",
    "        output_file = os.path.join(output_directory, file)\n",
    "        \n",
    "        try:\n",
    "            with open(input_file, 'r', encoding='mac_roman') as infile:\n",
    "                content = infile.read()\n",
    "                \n",
    "            with open(output_file, 'w', encoding='utf-8') as outfile:\n",
    "                outfile.write(content)\n",
    "                \n",
    "            print(f\"Converted {file} into UTF-8 as {output_file}\")\n",
    "        except Exception as e:\n",
    "            print(f\"Error converting {file}: {e}\")"
   ]
  }
 ],
 "metadata": {
  "kernelspec": {
   "display_name": "this_env",
   "language": "python",
   "name": "python3"
  },
  "language_info": {
   "codemirror_mode": {
    "name": "ipython",
    "version": 3
   },
   "file_extension": ".py",
   "mimetype": "text/x-python",
   "name": "python",
   "nbconvert_exporter": "python",
   "pygments_lexer": "ipython3",
   "version": "3.10.6"
  }
 },
 "nbformat": 4,
 "nbformat_minor": 2
}
