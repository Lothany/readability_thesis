{
 "cells": [
  {
   "cell_type": "code",
   "execution_count": 14,
   "metadata": {},
   "outputs": [],
   "source": [
    "import os\n",
    "import re\n",
    "import string\n",
    "import subprocess\n",
    "import shutil"
   ]
  },
  {
   "cell_type": "code",
   "execution_count": 15,
   "metadata": {},
   "outputs": [
    {
     "name": "stdout",
     "output_type": "stream",
     "text": [
      "['Si Maya ay pangalawa sa tatlong magkakapatid. Nakatira sila sa abang tahanan ng Barangay San Isidro, lungsod ng Heneral Santos. Mapagmahal ang kanyang mga magulang na sina Mang Mando at Aling Memay. Mahilig maglaro si Maya sa kanyang manika, na bigay ng kanyang Ante Anna. Araw ng Sabado, naglalaro ang magkakapatid, ‚ÄúKuya Miguel, maglalaro tayo ng manika ko‚Äù, tawag ni Maya sa kanyang nakatatandang kapatid. Bog,Bog,Bog ‚ÄúSandali lamang naglalaro pa kami ni Marco ng basketball‚Äù, tugon naman ng kanyang Kuya Miguel. Si Marco ay ang kanilang nakababatang kapatid. Mag-isa na lamang naglaro si Maya sa kanyang manika na pinangalanan niyang Meya. ‚ÄúMmmmm‚Ä¶.mmmmm, tulog na!tulog na! Meya kong mahal‚Äù. Awit ni Maya habang inuugoy ang kanyang manika. Inilapag niya ito sa loob ng kahon bilang kama ng kanyang manika. Pumunta si Maya sa kusina upang uminom ng tubig. Nakita niya sa labas ang dalawa niyang kapatid na naglalaro ng bola. ‚ÄúKuya Miguel, ipasa mo rin sa akin ang bola‚Äù, nakangiting sigaw ni Maya. ‚ÄúEto, saluin mo ang bola Maya‚Äù. Tugon ni Kuya Miguel. ‚ÄúWow, ang galing mo Ate Maya, nasalo mo‚Äù, papuri ni Marco sa kanyang ate. Lumabas sila sa kanilang bahay upang maglaro pa ng habol-habolan. \\n', 'Dumating ang kanyang Nanay Memay mula sa palengke. ‚ÄúMano po Inay‚Äù, patakbong lumapit ang magkakapatid. ‚ÄúMaaari po bang maglaro pa kami sa labas, Inay?  Paalam ni Kuya Miguel kay Aling Memay. ‚ÄúO, sige mga anak, basta maging maingat at huwag mag-aaway,‚Äù paalala ni Aling Memay.\\n', ' ‚ÄúHuli ka, Marco!‚Äù  ‚ÄúAko naman habulin mo Marco,‚Äù tugon ni Maya.  ‚ÄúMag-iingat kayo, baka madapa kayo,‚Äù paalala ng kanilang Kuya Miguel. \\n', 'Sa kusina, inaayos ni Aling Memay ang kanyang pinamili. Meron siyang mga prutas; mangga, at mansanas.   Gulay at manok.  Nagligpit siya ng mga kalat sa loob ng sala, itinabi ang kahon at ipinasok sa bodega.\\n', 'Matapos magluto, tinawag na niya ang kanyang mga anak upang kumain ng meryenda. ‚ÄúNandito na po kami Inay‚Äù, bungad ni Maya. Binigyan sila ng tinapay at juice ni Aling Memay.   ‚ÄúSalamat po, Inay,‚Äù nabusog po kami. Sabay sabi nina Kuya Miguel, Maya at Marco.‚Äù \\n', 'Kinabukasan. ‚ÄúMagandang umaga, Maya,‚Äù masayang bati ng kanyang manika. ‚ÄúMagandang umaga naman Meya,‚Äù tugon ni Maya sa kanyang Manika. ‚ÄúHalika maglaro tayo ng tagu-taguan,‚Äù sambit ni Meya Manika. ‚ÄúIsa, dalawa, tatlo, magtago kana.‚Äù   Hinanap ni Maya si Meya Manika, sumilip sya sa ilalim ng kama, ‚ÄúHuli ka!‚Äù ngunit walang Meya.  Pumunta naman siya sa kanang parte ng kanilang bahay ang sala, tahimik at wala parin si Meya. ‚ÄúAaaaahhh! alam ko na,‚Äù tinungo ni Maya ang silid nila.  Dahan-dahan niyang binuksan ang pinto. ‚ÄúMeya, Meya nasaan ka?  Mahuhuli na kita.‚Äù  Malumanay na sambit ni Maya. Subalit wala paring Meya Manika. ‚ÄúNaku! Saan kaya siya nagtago? Lumabas ito ng bahay, tiningnan sa likod ng kanilang bahay, sa ilalim ng mga tanim, gayon paman wala paring Meya Manika. \\n', 'Nagsimula na siyang mag-alala. ‚ÄúNasaan kana Meya? Lumabas kana?‚Äù Paiyak na sambit ni Maya.  ‚ÄúInay, Itay, nawawala po si Meya.‚Äù  ‚ÄúPaanong nawala? Tanong ni Mang Mando. ‚ÄúNaglalaro lang po kami ng tagu-taguan, kanina ko pa po siya hinahanap, pero hindi ko siya mahanap.‚Äù  Malungkot na sagot ni Maya.\\n', '‚ÄúHuhuhuhu, tulungan po ninyo ako, hanapin natin si Meya.‚Äù  Iyak nang iyak si Maya.  Lumapit na rin ang kanyang Kuya Miguel at bunsong kapatid na si Marco. ‚ÄúHuwag ka nang umiyak Maya, tutulungan ka naming.‚Äù  Nagmungkahi ang kanyang Inay na si Aling Memay na mag imprinta sila ng larawan ni Meya Manika, ipaskil sa labas ng kanilang bahay at sa kanilang plasa. ‚ÄúHeto na ang larawan ni Meya, idikit natin sa labas.‚Äù   Ang wika ni Aling Memay. \\n', 'Subalit hindi pa rin nila nahanap si Memay. Iyak nang iyak parin si Maya. ‚ÄúMaya, Maya, gumising ka, nananaginip ka.‚Äù  ‚ÄúBakit kaba umiiyak? ‚ÄúInay nawawala po si Meya.‚Äù  Ang malungkot na sagot ni Maya. ‚ÄúSaan mo ba iniwan ang iyong manika?   Tanong naman ni Aling Nena. ‚ÄúHindi ko po alam, Inay‚Äù. Dali-daling bumangon si Maya. Lumabas ng kanyang silid at hinanap si Maya. ‚ÄúPumunta siya sa sala, sa kusina, sa banyo, at sa bahaging likuran ng kanilang bahay.  Subalit wala talaga si Meya Manika.  ‚ÄúIsipin mo nang mabuti Maya, saan ka huling naglaro ng iyong manika?   Tanong muli ni Aling Memay. ‚ÄúKahapon po dito sa loob ng bahay.‚Äù  ‚ÄúMiguel, Marco, hali nga kayo,‚Äù tawag ni Aling Memay sa dalawang magkakapatid.  Lumapit kaagad sila at nagtanong.  ‚ÄúBakit po Inay?  Nakita niyo ba ang manika ni Maya?  ‚ÄúHindi po,‚Äù magalang na sagot ni Kuya Miguel.  ‚ÄúIkaw Marco?  Tanong naman ni Aling Memay kay Marco. ‚ÄúHindi rin po, Inay.‚Äù  ‚ÄúIsipin mo nang mabuti Maya, saan mo inilagay ang iyong manika? ‚ÄúKahapon po pinapatulog ko po siya, ah, naaalala ko na po pinasok ko siya sa isang karton na ginawa kong kama niya.‚Äù ‚ÄúDito ko po sa sahig nilapag kahapon.‚Äù  Maligsing tugon ni Maya sa kanyang Inay.  \\n', 'Dali-daling tumalikod si Aling Memay, at nagtungo sa bodega. ‚ÄúIto ba na kahon Maya?   Tanong ni Maya.   ‚ÄúUpo , Inay yan nga po.‚Äù  Sabik na sagot ni Maya. ‚ÄúHeto, buksan mo,‚Äù wika ng kanyang inay. Nang buksan ni Maya, nagningning ang kanyang mga mata nang makita sa loob ng kahon si Meya Manika. ‚ÄúMaraming-maraming salamat po Inay.‚Äù  Niyakap nang mahigpit ni Maya si Meya Manika. Masayang-masaya din ang kanyang mga kapatid. \\n', 'Pinaalalahanan ni Aling Memay ang kanyang mga anak na, ‚ÄúKapag kayo ay maglalaro, siguraduhing iligpit sa tamang lalagyan ang inyong mga laruan. Pahalagahan ninyo ang ano mang bagay na nasa inyo,‚Äù wika ng kanilang Inay.  ‚ÄúOpo Inay, patawad po, nakalimutan kong iligpit ang aking manika,‚Äù malumanay na sagot ni Maya.  ‚ÄúOpo Inay!‚Äù sagot din ni Kuya Miguel at Marco. \\n', 'Hinalikan at niyaakap muli Maya si Meya Manika. \\n']\n"
     ]
    }
   ],
   "source": [
    "with open(\"txt/utf/g1/19.txt\", \"r\", encoding=\"macRoman\") as file:\n",
    "    lines = file.readlines()  # List of lines\n",
    "print(lines)\n"
   ]
  },
  {
   "cell_type": "markdown",
   "metadata": {},
   "source": [
    "## Normalize UTF"
   ]
  },
  {
   "cell_type": "code",
   "execution_count": 16,
   "metadata": {},
   "outputs": [
    {
     "name": "stdout",
     "output_type": "stream",
     "text": [
      "Processed: txt/utf/gtest/19.txt -> txt/normalized/gtest/19.txt\n"
     ]
    }
   ],
   "source": [
    "# Change grade level for each directory, use \"gtest\" for testing\n",
    "input_folder = \"txt/utf/gtest/\" \n",
    "output_folder = \"txt/normalized/gtest/\"\n",
    "\n",
    "# Define a function for text normalization\n",
    "def preprocess_text(text):\n",
    "    # WARNING: Removing uppercase would confuse tagger for proper nouns\n",
    "    # text = text.lower()\n",
    "    text = text.replace(\"“\", \"\").replace(\"”\", \"\").replace(\",\", \"\")\n",
    "    text = text.replace(\"…\",\".\")\n",
    "    text = text.replace(\"..\", \".\")\n",
    "    text = text.replace(\".\", \"!\").replace(\"?\", \"!\").replace(\"!\", \"!\")\n",
    "    text = re.sub(r\"\\s+\", \" \", text).strip()\n",
    "    return text\n",
    "\n",
    "# Loop through all files in the input directory\n",
    "for filename in os.listdir(input_folder):\n",
    "    if filename.endswith(\".txt\"):  # Process only text files\n",
    "        input_path = os.path.join(input_folder, filename)\n",
    "        output_path = os.path.join(output_folder, filename)\n",
    "\n",
    "        # Read the original text file\n",
    "        with open(input_path, \"r\", encoding=\"utf-8\") as file:\n",
    "            content = file.read()\n",
    "\n",
    "        # Normalize the text\n",
    "        cleaned_text = preprocess_text(content)\n",
    "\n",
    "        # Save the normalized text to the new folder\n",
    "        with open(output_path, \"w\", encoding=\"utf-8\") as file:\n",
    "            file.write(cleaned_text)\n",
    "\n",
    "        print(f\"Processed: {input_path} -> {output_path}\")"
   ]
  },
  {
   "cell_type": "markdown",
   "metadata": {},
   "source": [
    "## Parts of Speech Tagger"
   ]
  },
  {
   "cell_type": "code",
   "execution_count": null,
   "metadata": {},
   "outputs": [],
   "source": [
    "# Change grade level for each directory, use \"gtest\" for testing\n",
    "input_folder = \"txt/normalized/gtest\"\n",
    "output_folder = \"txt/tagged/gtest\"\n",
    "\n",
    "# Directory containing the Stanford POS Tagger\n",
    "stanford_dir = \"stanford-postagger-full-2020-11-17/\"\n",
    "stanford_input = \"hold-input.txt\"\n",
    "\n",
    "def copy_to_stanford(source_file):\n",
    "    destination_file = \"stanford-postagger-full-2020-11-17/hold-input.txt\"\n",
    "\n",
    "    shutil.copyfile(source_file, destination_file)\n",
    "\n",
    "# source_file = \"txt/normalized/g1/19.txt\"\n",
    "# input_filename = os.path.splitext(os.path.basename(source_file))[0]\n",
    "# output_file_path = os.path.join(output_folder, f\"{input_filename}-tagged.txt\")\n",
    "\n",
    "for source_file in os.listdir(input_folder):\n",
    "    if source_file.endswith(\".txt\"):\n",
    "        # Naming convention to sustain original indexing\n",
    "        input_filename = os.path.splitext(os.path.basename(source_file))[0]\n",
    "        # output_file_path = os.path.join(output_folder, f\"{input_filename}-tagged.txt\")\n",
    "        output_file_path = os.path.join(output_folder, f\"{input_filename}.txt\")\n",
    "        \n",
    "        # Copy source file inside stanford directory\n",
    "        copy_to_stanford(os.path.join(input_folder, source_file))\n",
    "\n",
    "        # Java command to begin POS\n",
    "        cmd = [\n",
    "            \"java\", \"-mx300m\",\n",
    "            \"-classpath\", \"stanford-postagger.jar\",\n",
    "            \"edu.stanford.nlp.tagger.maxent.MaxentTagger\",\n",
    "            \"-model\", \"models/filipino-left5words-owlqn2-distsim-pref6-inf2.tagger\",\n",
    "            \"-textFile\", stanford_input\n",
    "        ]\n",
    "\n",
    "        with open(output_file_path, \"w\") as output_file:\n",
    "            subprocess.run(cmd, stdout=output_file, stderr=subprocess.PIPE, text=True, cwd=stanford_dir)\n",
    "        print(f\"Tagged: {source_file} -> {output_file_path}\")\n"
   ]
  },
  {
   "cell_type": "code",
   "execution_count": null,
   "metadata": {},
   "outputs": [],
   "source": []
  }
 ],
 "metadata": {
  "kernelspec": {
   "display_name": "this_env",
   "language": "python",
   "name": "python3"
  },
  "language_info": {
   "codemirror_mode": {
    "name": "ipython",
    "version": 3
   },
   "file_extension": ".py",
   "mimetype": "text/x-python",
   "name": "python",
   "nbconvert_exporter": "python",
   "pygments_lexer": "ipython3",
   "version": "3.10.6"
  }
 },
 "nbformat": 4,
 "nbformat_minor": 2
}
